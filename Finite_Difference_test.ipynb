# import
import numpy as np
import matplotlib.pyplot as plt

# variables
dt = 0.01
t = np.linspace(-2,4)
f = np.sin(t)



# forward difference
dfdtFD = (np.sin(t+dt)-np.sin(t))/dt;

# backward difference 
dfdtBD = (np.sin(t)-np.sin(t-dt))/dt;

# central difference 
dfdtCD = (np.sin(t+dt)-np.sin(t-dt))/(2*dt);

# plotting
plt.plot(t,f, '--k');
plt.plot(t,dfdt, 'k');
plt.plot(t,dfdtFD, 'b', 1.2);
plt.plot(t,dfdtBD, 'g', 1.2);
plt.plot(t,dfdtCD, 'r', 1.2);
plt.legend(['Function','Exact Derivative','Forward','Backward','Central'])

plt.grid()
plt.show()
