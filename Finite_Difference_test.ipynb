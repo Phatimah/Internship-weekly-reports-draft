
import numpy as np
import matplotlib.pyplot as plt


dt = 0.01
t = np.linspace(-2,4)
f = np.sin(t)




dfdtFD = (np.sin(t+dt)-np.sin(t))/dt;


dfdtBD = (np.sin(t)-np.sin(t-dt))/dt;

 
dfdtCD = (np.sin(t+dt)-np.sin(t-dt))/(2*dt);


plt.plot(t,f, '--k');
plt.plot(t,dfdt, 'k');
plt.plot(t,dfdtFD, 'b', 1.2);
plt.plot(t,dfdtBD, 'g', 1.2);
plt.plot(t,dfdtCD, 'r', 1.2);
plt.legend(['Function','Exact Derivative','Forward','Backward','Central'])

plt.grid()
plt.show()
